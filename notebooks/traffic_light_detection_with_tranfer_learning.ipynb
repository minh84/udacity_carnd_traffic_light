{
 "cells": [
  {
   "cell_type": "markdown",
   "metadata": {},
   "source": [
    "# Traffic Light Detection with Transfer Learning\n",
    "In this notebook, we learn how to use [Tensorflow Object Detection API](https://github.com/tensorflow/models/tree/master/research/object_detection) to fine-tune a pretrained model on our own dataset/labels (our dataset can be small). We discuss the following points\n",
    "\n",
    "* create our own traffic light dataset: images and annotations\n",
    "* ensemble our dataset into TFRecord format\n",
    "* use [Tensorflow Object Detection API](https://github.com/tensorflow/models/tree/master/research/object_detection) to fine-tune a pretrained model\n",
    "\n",
    "## Traffic Light Dataset\n",
    "We look at the following traffic light images (extracted from ROS)\n",
    "\n",
    "<img src=\"../media/tl_dir.png\" alt=\"the traffic light dir\">\n",
    "\n",
    "To create annotated data we use"
   ]
  }
 ],
 "metadata": {
  "kernelspec": {
   "display_name": "Python 3",
   "language": "python",
   "name": "python3"
  },
  "language_info": {
   "codemirror_mode": {
    "name": "ipython",
    "version": 3
   },
   "file_extension": ".py",
   "mimetype": "text/x-python",
   "name": "python",
   "nbconvert_exporter": "python",
   "pygments_lexer": "ipython3",
   "version": "3.6.1"
  }
 },
 "nbformat": 4,
 "nbformat_minor": 2
}
